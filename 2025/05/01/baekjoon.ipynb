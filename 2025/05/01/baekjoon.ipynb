{
 "cells": [
  {
   "cell_type": "code",
   "execution_count": null,
   "metadata": {},
   "outputs": [],
   "source": [
    "# 4562\n",
    "N = int(input())\n",
    "\n",
    "for i in range(N):\n",
    "    X, Y = map(int, input().split())\n",
    "    print(\"MMM BRAINS\" if X >= Y else \"NO BRAINS\")"
   ]
  },
  {
   "cell_type": "code",
   "execution_count": 2,
   "metadata": {},
   "outputs": [
    {
     "name": "stdout",
     "output_type": "stream",
     "text": [
      "Gnomes: \n",
      "Ordered\n",
      "Unordered\n",
      "Ordered\n"
     ]
    }
   ],
   "source": [
    "# 4589\n",
    "N = int(input())\n",
    "\n",
    "print(\"Gnomes: \")\n",
    "for i in range(N):\n",
    "    a, b, c = map(int, input().split())\n",
    "    if a <= b <= c or a >= b >= c:\n",
    "        print(\"Ordered\")\n",
    "    else:\n",
    "        print(\"Unordered\")\n"
   ]
  },
  {
   "cell_type": "code",
   "execution_count": 3,
   "metadata": {},
   "outputs": [
    {
     "name": "stdout",
     "output_type": "stream",
     "text": [
      "2801.00\n",
      "5.00\n",
      "64.44\n"
     ]
    }
   ],
   "source": [
    "#4696\n",
    "while True:\n",
    "    i = float(input())\n",
    "    if i == 0:\n",
    "        break\n",
    "    else:\n",
    "        size = 1 + i + i**2 + i**3 + i**4\n",
    "        print(f\"{size:.2f}\")\n"
   ]
  },
  {
   "cell_type": "code",
   "execution_count": 4,
   "metadata": {},
   "outputs": [
    {
     "name": "stdout",
     "output_type": "stream",
     "text": [
      "Objects weighing 100.00 on Earth will weigh 16.70 on the moon.\n",
      "Objects weighing 12.00 on Earth will weigh 2.00 on the moon.\n",
      "Objects weighing 0.12 on Earth will weigh 0.02 on the moon.\n"
     ]
    }
   ],
   "source": [
    "# 4714\n",
    "while True:\n",
    "    N = float(input())\n",
    "    if N < 0:\n",
    "        break\n",
    "    else:\n",
    "        print(f\"Objects weighing {N:.2f} on Earth will weigh {N*0.167:.2f} on the moon.\")"
   ]
  },
  {
   "cell_type": "code",
   "execution_count": 9,
   "metadata": {},
   "outputs": [
    {
     "name": "stdout",
     "output_type": "stream",
     "text": [
      "1 2 3 4 5 6 Go! 7 8 9 10 11 12 Go! 13 14 15 16 17 18 Go! \n"
     ]
    }
   ],
   "source": [
    "# 5300\n",
    "N = int(input())\n",
    "\n",
    "for i in range(1, N+1):\n",
    "    if i % 6 == 0:\n",
    "        print(f\"{i} Go! \",  end=\"\")\n",
    "    else:\n",
    "        print(f\"{i} \", end=\"\")\n",
    "\n",
    "print(\"Go!\" if N % 6 != 0 else \"\")"
   ]
  },
  {
   "cell_type": "code",
   "execution_count": 21,
   "metadata": {},
   "outputs": [
    {
     "name": "stdout",
     "output_type": "stream",
     "text": [
      "ABAC\n",
      "A\n",
      "ABC\n"
     ]
    }
   ],
   "source": [
    "# 5357\n",
    "N = int(input())\n",
    "\n",
    "for i in range(N):\n",
    "    str = input()\n",
    "    for j in range(len(str)):\n",
    "        if j < len(str)-1 and str[j] == str[j+1]:\n",
    "            continue\n",
    "        else:\n",
    "            print(str[j], end=\"\")\n",
    "    print()"
   ]
  },
  {
   "cell_type": "code",
   "execution_count": 23,
   "metadata": {},
   "outputs": [
    {
     "name": "stdout",
     "output_type": "stream",
     "text": [
      "Alan Page\n",
      "0\n",
      "ixet\n",
      "ixet\n",
      "\n"
     ]
    },
    {
     "ename": "",
     "evalue": "",
     "output_type": "error",
     "traceback": [
      "\u001b[1;31m현재 셀 또는 이전 셀에서 코드를 실행하는 동안 Kernel이 충돌했습니다. \n",
      "\u001b[1;31m셀의 코드를 검토하여 가능한 오류 원인을 식별하세요. \n",
      "\u001b[1;31m자세한 내용을 보려면 <a href='https://aka.ms/vscodeJupyterKernelCrash'>여기</a>를 클릭하세요. \n",
      "\u001b[1;31m자세한 내용은 Jupyter <a href='command:jupyter.viewOutput'>로그</a>를 참조하세요."
     ]
    }
   ],
   "source": [
    "# 5358\n",
    "try:\n",
    "    while True:\n",
    "        name = input()\n",
    "        for i in range(len(name)):\n",
    "            if name[i] == \"i\":\n",
    "                print(\"e\", end=\"\")\n",
    "            elif name[i] == \"e\":\n",
    "                print(\"i\", end=\"\")\n",
    "            elif name[i] == \"I\":\n",
    "                print(\"E\", end=\"\")\n",
    "            elif name[i] == \"E\":\n",
    "                print(\"I\", end=\"\")\n",
    "            else:\n",
    "                print(name[i], end=\"\")\n",
    "        print()\n",
    "\n",
    "\n",
    "except:\n",
    "    exit(0)"
   ]
  },
  {
   "cell_type": "code",
   "execution_count": null,
   "metadata": {},
   "outputs": [],
   "source": [
    "# 5524\n",
    "N = int(input())\n",
    "\n",
    "for i in range(N):\n",
    "    name = input()\n",
    "    print(name.lower())"
   ]
  },
  {
   "cell_type": "code",
   "execution_count": 3,
   "metadata": {},
   "outputs": [
    {
     "name": "stdout",
     "output_type": "stream",
     "text": [
      "7\n"
     ]
    }
   ],
   "source": [
    "# 5532\n",
    "L = int(input())\n",
    "A = int(input())\n",
    "B = int(input())\n",
    "C = int(input())\n",
    "D = int(input())\n",
    "\n",
    "if A % C == 0:\n",
    "    days1 = A // C\n",
    "else:\n",
    "    days1 = A // C + 1\n",
    "\n",
    "if B % D == 0:\n",
    "    days2 = B // D\n",
    "else:\n",
    "    days2 = B // D + 1\n",
    "\n",
    "print(L - max(days1, days2))"
   ]
  },
  {
   "cell_type": "code",
   "execution_count": 4,
   "metadata": {},
   "outputs": [
    {
     "name": "stdout",
     "output_type": "stream",
     "text": [
      "848\n"
     ]
    }
   ],
   "source": [
    "# 5543\n",
    "sangduk = int(input())\n",
    "jungduk = int(input())\n",
    "haduk = int(input())\n",
    "coke = int(input())\n",
    "cider = int(input())\n",
    "\n",
    "print(min(sangduk, jungduk, haduk) + min(coke, cider) - 50)"
   ]
  },
  {
   "cell_type": "code",
   "execution_count": 6,
   "metadata": {},
   "outputs": [
    {
     "name": "stdout",
     "output_type": "stream",
     "text": [
      "0\n",
      "10\n"
     ]
    }
   ],
   "source": [
    "# 5554\n",
    "total = 0\n",
    "\n",
    "for i in range(4):\n",
    "    total += int(input())\n",
    "\n",
    "print(total // 60)\n",
    "print(total % 60)"
   ]
  },
  {
   "cell_type": "code",
   "execution_count": null,
   "metadata": {},
   "outputs": [],
   "source": [
    "# 5565\n",
    "price = int(input())\n",
    "\n",
    "for i in range(9):\n",
    "    price -= int(input())\n",
    "\n",
    "print(price)"
   ]
  },
  {
   "cell_type": "code",
   "execution_count": 7,
   "metadata": {},
   "outputs": [
    {
     "name": "stdout",
     "output_type": "stream",
     "text": [
      "9 0 0\n",
      "8 59 59\n",
      "0 0 38\n"
     ]
    }
   ],
   "source": [
    "# 5575\n",
    "for i in range(3):\n",
    "    h1, m1, s1, h2, m2, s2 = map(int, input().split())\n",
    "    if s2 >= s1:\n",
    "        s = s2 - s1\n",
    "    else:\n",
    "        s = 60 + s2 - s1\n",
    "        m2 -= 1\n",
    "\n",
    "    if m2 >= m1:\n",
    "        m = m2 - m1\n",
    "    else:\n",
    "        m = 60 + m2 - m1\n",
    "        h2 -= 1\n",
    "\n",
    "    if h2 >= h1:\n",
    "        h = h2 - h1\n",
    "    else:\n",
    "        h = 24 + h2 - h1\n",
    "\n",
    "\n",
    "    print(h, m, s)\n",
    "\n",
    "\n",
    "\n",
    "\n"
   ]
  },
  {
   "cell_type": "code",
   "execution_count": null,
   "metadata": {},
   "outputs": [],
   "source": [
    "# 5596\n",
    "a = sum(map(int, input().split()))\n",
    "b = sum(map(int, input().split()))\n",
    "\n",
    "print(max(a, b))\n"
   ]
  },
  {
   "cell_type": "code",
   "execution_count": 8,
   "metadata": {},
   "outputs": [
    {
     "name": "stdout",
     "output_type": "stream",
     "text": [
      "1563\n"
     ]
    }
   ],
   "source": [
    "# 5928\n",
    "D, H, M = map(int, input().split())\n",
    "\n",
    "if D < 11 or (D == 11 and H < 11) or (D == 11 and H == 11 and M < 11):\n",
    "    print(-1)\n",
    "else:\n",
    "    print((D-11)*24*60 + (H-11)*60 + (M-11))"
   ]
  },
  {
   "cell_type": "code",
   "execution_count": null,
   "metadata": {},
   "outputs": [],
   "source": [
    "# 6749\n",
    "Y = int(input())\n",
    "M = int(input())\n",
    "\n",
    "diff = M - Y\n",
    "\n",
    "print(M + diff)"
   ]
  },
  {
   "cell_type": "code",
   "execution_count": null,
   "metadata": {},
   "outputs": [],
   "source": [
    "# 6763\n",
    "limit = int(input())\n",
    "speed = int(input())\n",
    "\n",
    "diff = speed - limit\n",
    "\n",
    "if diff <= 0:\n",
    "    print(\"Congratulations, you are within the speed limit!\")\n",
    "elif diff <= 20:\n",
    "    print(\"You are speeding and your fine is $100.\")\n",
    "elif diff <= 30:\n",
    "    print(\"You are speeding and your fine is $270.\")\n",
    "else:\n",
    "    print(\"You are speeding and your fine is $500.\")"
   ]
  }
 ],
 "metadata": {
  "language_info": {
   "name": "python"
  }
 },
 "nbformat": 4,
 "nbformat_minor": 2
}
