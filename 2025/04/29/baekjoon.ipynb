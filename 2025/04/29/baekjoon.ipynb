{
 "cells": [
  {
   "cell_type": "code",
   "execution_count": 7,
   "metadata": {},
   "outputs": [
    {
     "name": "stdout",
     "output_type": "stream",
     "text": [
      "3\n"
     ]
    }
   ],
   "source": [
    "# 30224\n",
    "number = int(input())\n",
    "\n",
    "if \"7\" not in str(number) and number % 7 != 0 : print(\"0\")\n",
    "elif \"7\" not in str(number) and number % 7 == 0: print(\"1\")\n",
    "elif \"7\" in str(number) and number % 7 != 0: print(\"2\")\n",
    "elif \"7\" in str(number) and number % 7 == 0: print(\"3\")"
   ]
  },
  {
   "cell_type": "code",
   "execution_count": null,
   "metadata": {},
   "outputs": [],
   "source": [
    "# 330664\n",
    "while True:\n",
    "    number = int(input())\n",
    "\n",
    "    if number == 0:\n",
    "        break\n",
    "    elif number % 42 == 0:\n",
    "        print(\"PREMIADO\")\n",
    "    elif number % 42 != 0:\n",
    "        print(\"TENTE NOVAMENTE\")\n",
    "        "
   ]
  },
  {
   "cell_type": "code",
   "execution_count": null,
   "metadata": {},
   "outputs": [],
   "source": [
    "# 30676\n",
    "spectrum = int(input())\n",
    "\n",
    "if spectrum >= 620 and spectrum <= 780:\n",
    "    print(\"Red\")\n",
    "elif spectrum >= 590 and spectrum < 620:\n",
    "    print(\"Orange\")\n",
    "elif spectrum >= 570 and spectrum < 590:\n",
    "    print(\"Yellow\")\n",
    "elif spectrum >= 495 and spectrum < 570:\n",
    "    print(\"Green\")\n",
    "elif spectrum >= 450 and spectrum < 495:\n",
    "    print(\"Blue\")\n",
    "elif spectrum >= 425 and spectrum < 450:\n",
    "    print(\"Indigo\")\n",
    "elif spectrum >= 380 and spectrum < 425:\n",
    "    print(\"Violet\")"
   ]
  },
  {
   "cell_type": "code",
   "execution_count": 10,
   "metadata": {},
   "outputs": [
    {
     "name": "stdout",
     "output_type": "stream",
     "text": [
      "6 773\n"
     ]
    }
   ],
   "source": [
    "# 31429\n",
    "N = int(input())\n",
    "\n",
    "problem = [12, 11, 11, 10, 9, 9, 9, 8, 7, 6, 6]\n",
    "panelty = [1600, 894, 1327, 1311, 1004, 1178, 1357, 837, 1055, 556, 773]\n",
    "\n",
    "print(problem[N-1], panelty[N-1])\n",
    "\n"
   ]
  },
  {
   "cell_type": "code",
   "execution_count": 12,
   "metadata": {},
   "outputs": [
    {
     "name": "stdout",
     "output_type": "stream",
     "text": [
      "No\n"
     ]
    }
   ],
   "source": [
    "# 31450\n",
    "M, K = map(int, input().split())\n",
    "\n",
    "print(\"Yes\" if M % K == 0 else \"No\")"
   ]
  },
  {
   "cell_type": "code",
   "execution_count": null,
   "metadata": {},
   "outputs": [],
   "source": [
    "# 31606\n",
    "X = int(input())\n",
    "Y = int(input())\n",
    "\n",
    "print(X + Y + 3)"
   ]
  },
  {
   "cell_type": "code",
   "execution_count": 13,
   "metadata": {},
   "outputs": [
    {
     "name": "stdout",
     "output_type": "stream",
     "text": [
      "70\n"
     ]
    }
   ],
   "source": [
    "# 31610\n",
    "A = int(input())\n",
    "B = int(input())\n",
    "C = int(input())\n",
    "\n",
    "print(A * B + C)"
   ]
  },
  {
   "cell_type": "code",
   "execution_count": 19,
   "metadata": {},
   "outputs": [
    {
     "name": "stdout",
     "output_type": "stream",
     "text": [
      "1\n"
     ]
    }
   ],
   "source": [
    "# 31611\n",
    "X = int(input())\n",
    "\n",
    "print(\"1\" if X % 7 == 2 else \"0\")"
   ]
  },
  {
   "cell_type": "code",
   "execution_count": null,
   "metadata": {},
   "outputs": [],
   "source": [
    "#31614\n",
    "H = int(input())\n",
    "M = int(input())\n",
    "\n",
    "print(H * 60 + M)"
   ]
  },
  {
   "cell_type": "code",
   "execution_count": null,
   "metadata": {},
   "outputs": [],
   "source": [
    "# 31654\n",
    "A, B, C = map(int, input().split())\n",
    "\n",
    "print(\"correct!\" if A + B == C else \"wrong!\")"
   ]
  }
 ],
 "metadata": {
  "language_info": {
   "name": "python"
  }
 },
 "nbformat": 4,
 "nbformat_minor": 2
}
