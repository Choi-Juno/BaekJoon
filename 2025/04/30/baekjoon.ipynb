{
 "cells": [
  {
   "cell_type": "code",
   "execution_count": null,
   "metadata": {},
   "outputs": [],
   "source": [
    "# 32314\n",
    "a = int(input())\n",
    "w, v = map(int, input().split())\n",
    "\n",
    "print(\"1\" if w / v >= a else \"0\")"
   ]
  },
  {
   "cell_type": "code",
   "execution_count": null,
   "metadata": {},
   "outputs": [],
   "source": [
    "# 32326\n",
    "R = int(input())\n",
    "G = int(input())\n",
    "B = int(input())\n",
    "\n",
    "print(R*3 + G*4 + B*5)"
   ]
  },
  {
   "cell_type": "code",
   "execution_count": 2,
   "metadata": {},
   "outputs": [
    {
     "name": "stdout",
     "output_type": "stream",
     "text": [
      "LoveisKoreaUniversity LoveisKoreaUniversity "
     ]
    }
   ],
   "source": [
    "# 32384\n",
    "N = int(input())\n",
    "\n",
    "for i in range(N):\n",
    "    print(\"LoveisKoreaUniversity\", end=\" \")\n",
    "\n"
   ]
  },
  {
   "cell_type": "code",
   "execution_count": null,
   "metadata": {},
   "outputs": [],
   "source": [
    "# 32458\n",
    "import math\n",
    "\n",
    "N = math.floor(float(input()))\n",
    "\n",
    "print(N)"
   ]
  },
  {
   "cell_type": "code",
   "execution_count": null,
   "metadata": {},
   "outputs": [],
   "source": [
    "# 32498\n",
    "N = int(input())\n",
    "count = 0\n",
    "\n",
    "for i in range(N):\n",
    "    n = int(input())\n",
    "    if n % 2 != 0:\n",
    "        count += 1\n",
    "\n",
    "print(count)"
   ]
  },
  {
   "cell_type": "code",
   "execution_count": null,
   "metadata": {},
   "outputs": [
    {
     "name": "stdout",
     "output_type": "stream",
     "text": [
      "flight\n"
     ]
    }
   ],
   "source": [
    "# 32775\n",
    "S = int(input())\n",
    "F = int(input())\n",
    "\n",
    "print(\"high speed rail\" if S <= F else \"flight\")"
   ]
  },
  {
   "cell_type": "code",
   "execution_count": 6,
   "metadata": {},
   "outputs": [
    {
     "name": "stdout",
     "output_type": "stream",
     "text": [
      "U\n"
     ]
    }
   ],
   "source": [
    "x = int(input())\n",
    "str = [\"U\",\"O\",\"S\"]\n",
    "\n",
    "print(str[(x%3)-1])"
   ]
  },
  {
   "cell_type": "code",
   "execution_count": null,
   "metadata": {},
   "outputs": [],
   "source": [
    "N = int(input())\n",
    "\n",
    "print(N - 2024)"
   ]
  },
  {
   "cell_type": "code",
   "execution_count": null,
   "metadata": {},
   "outputs": [],
   "source": [
    "A = int(input())\n",
    "\n",
    "print(A//5)"
   ]
  },
  {
   "cell_type": "code",
   "execution_count": null,
   "metadata": {},
   "outputs": [],
   "source": [
    "T = int(input())\n",
    "V = int(input())\n",
    "\n",
    "print(V*T)"
   ]
  },
  {
   "cell_type": "code",
   "execution_count": null,
   "metadata": {},
   "outputs": [],
   "source": [
    "A = int(input())\n",
    "B = int(input())\n",
    "\n",
    "print(A*1000 + B*10000)"
   ]
  },
  {
   "cell_type": "code",
   "execution_count": null,
   "metadata": {},
   "outputs": [],
   "source": [
    "A = int(input())\n",
    "B = int(input())\n",
    "C = int(input())\n",
    "\n",
    "print(\"1\" if A+B+C <= 21 else \"0\")"
   ]
  },
  {
   "cell_type": "code",
   "execution_count": null,
   "metadata": {},
   "outputs": [],
   "source": [
    "n = int(input())\n",
    "print(n//10)"
   ]
  },
  {
   "cell_type": "code",
   "execution_count": null,
   "metadata": {},
   "outputs": [],
   "source": [
    "T1, T2 = map(int, input().split())\n",
    "\n",
    "print(min(T1, T2))"
   ]
  },
  {
   "cell_type": "code",
   "execution_count": null,
   "metadata": {},
   "outputs": [
    {
     "name": "stdout",
     "output_type": "stream",
     "text": [
      "2025 10\n"
     ]
    }
   ],
   "source": [
    "N = int(input())\n",
    "y, m = 2024, 8 + 7 * (N-1)\n",
    "\n",
    "while m > 12:\n",
    "    y += 1\n",
    "    m -= 12\n",
    "    \n",
    "print(y, m)"
   ]
  },
  {
   "cell_type": "code",
   "execution_count": 11,
   "metadata": {},
   "outputs": [
    {
     "name": "stdout",
     "output_type": "stream",
     "text": [
      "7\n",
      "14\n",
      "9\n",
      "9\n"
     ]
    }
   ],
   "source": [
    "# 1264\n",
    "while True:\n",
    "    s = input()\n",
    "    if s == '#':\n",
    "        break\n",
    "    count = 0\n",
    "    for c in s:\n",
    "        if c in ['a','e','i','o','u', 'A','E','I','O','U']:\n",
    "            count += 1\n",
    "    print(count)"
   ]
  },
  {
   "cell_type": "code",
   "execution_count": 13,
   "metadata": {},
   "outputs": [
    {
     "name": "stdout",
     "output_type": "stream",
     "text": [
      "Joe Junior\n"
     ]
    }
   ],
   "source": [
    "#2973\n",
    "while True:\n",
    "    name, age, weight = input().split()\n",
    "\n",
    "    if name == \"#\" and int(age) == 0 and int(weight) == 0:\n",
    "        break\n",
    "    elif int(age) > 17 or int(weight) >= 80:\n",
    "        print(name, \"Senior\")\n",
    "    else:\n",
    "        print(name, \"Junior\")"
   ]
  },
  {
   "cell_type": "code",
   "execution_count": 15,
   "metadata": {},
   "outputs": [
    {
     "name": "stdout",
     "output_type": "stream",
     "text": [
      "*****\n",
      "****\n",
      "***\n",
      "**\n",
      "*\n"
     ]
    }
   ],
   "source": [
    "# 2440\n",
    "N = int(input())\n",
    "\n",
    "for i in range(N, 0, -1):\n",
    "    for i in range(i):\n",
    "        print(\"*\", end=\"\")\n",
    "    print()\n",
    "\n"
   ]
  },
  {
   "cell_type": "code",
   "execution_count": 23,
   "metadata": {},
   "outputs": [
    {
     "name": "stdout",
     "output_type": "stream",
     "text": [
      "0 31 54\n"
     ]
    }
   ],
   "source": [
    "# 2530\n",
    "H, M, S = map(int, input().split())\n",
    "D = int(input())\n",
    "\n",
    "S += D\n",
    "M += S // 60\n",
    "H += M // 60\n",
    "\n",
    "print(H%24, M%60, S%60)\n"
   ]
  },
  {
   "cell_type": "code",
   "execution_count": 28,
   "metadata": {},
   "outputs": [
    {
     "name": "stdout",
     "output_type": "stream",
     "text": [
      "1 2 3\n"
     ]
    }
   ],
   "source": [
    "# 2752\n",
    "a, b, c = map(int, input().split())\n",
    "\n",
    "lst = [a, b, c]\n",
    "lst.sort()\n",
    "\n",
    "print(lst[0], lst[1], lst[2])\n"
   ]
  },
  {
   "cell_type": "code",
   "execution_count": 30,
   "metadata": {},
   "outputs": [
    {
     "name": "stdout",
     "output_type": "stream",
     "text": [
      "0 0 0 0 0 "
     ]
    }
   ],
   "source": [
    "# 2845\n",
    "L, P = map(int, input().split())\n",
    "newspaper = list(map(int, input().split()))\n",
    "\n",
    "for i in range(len(newspaper)):\n",
    "    print(newspaper[i] - L*P, end=\" \")"
   ]
  },
  {
   "cell_type": "code",
   "execution_count": null,
   "metadata": {},
   "outputs": [],
   "source": [
    "# 3046\n",
    "R1, S = map(int, input().split())\n",
    "\n",
    "R2 = 2*S - R1\n",
    "\n",
    "print(R2)"
   ]
  },
  {
   "cell_type": "code",
   "execution_count": null,
   "metadata": {},
   "outputs": [],
   "source": [
    "# 3765\n",
    "while True:\n",
    "    try:\n",
    "        N = input()\n",
    "        print(N)\n",
    "    except:\n",
    "        exit(0)\n"
   ]
  },
  {
   "cell_type": "code",
   "execution_count": 43,
   "metadata": {},
   "outputs": [
    {
     "name": "stdout",
     "output_type": "stream",
     "text": [
      "2 1\n"
     ]
    }
   ],
   "source": [
    "# 4299\n",
    "a, b = map(int, input().split())\n",
    "\n",
    "# 가능한 점수인지 확인\n",
    "if (a+b) % 2 != 0 or (a-b) % 2 != 0 or a < b:\n",
    "    print(-1)\n",
    "else:\n",
    "    x = (a + b) // 2\n",
    "    y = (a-b) // 2\n",
    "    print(max(x, y), min(x, y))"
   ]
  },
  {
   "cell_type": "code",
   "execution_count": null,
   "metadata": {},
   "outputs": [],
   "source": [
    "N = int(input())\n",
    "\n",
    "for i in range(N):\n",
    "    str = input()\n",
    "    print(f'{i+1}. {str}')"
   ]
  }
 ],
 "metadata": {
  "language_info": {
   "name": "python"
  }
 },
 "nbformat": 4,
 "nbformat_minor": 2
}
